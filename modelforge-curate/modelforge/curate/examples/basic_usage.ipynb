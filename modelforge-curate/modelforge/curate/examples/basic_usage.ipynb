{
 "cells": [
  {
   "cell_type": "markdown",
   "id": "2b1e109f-b2f5-42a8-bcc3-0acf2d7af9a0",
   "metadata": {},
   "source": [
    "# modelforge.curate : Basic Usage\n",
    "\n",
    "This notebook will demonstrate basic usage of the curate module in modelforge, developed to make it easier to create datasets with a uniform structure, compatible with modelforge. "
   ]
  },
  {
   "cell_type": "code",
   "execution_count": 3,
   "id": "ed203e12-13a9-4898-be70-8772e90d6cb3",
   "metadata": {},
   "outputs": [],
   "source": [
    "from modelforge.curate.curate import SourceDataset, AtomicNumbers, Positions, Energies, Forces, MetaData\n",
    "\n",
    "from openff.units import unit\n",
    "\n",
    "import numpy as np"
   ]
  },
  {
   "cell_type": "markdown",
   "id": "bcfb4ef7-18f9-41dd-9b08-14bb8afd88d7",
   "metadata": {},
   "source": [
    "### Set up a new dataset\n",
    "To start, we will create a new instance of the `SourceDataset` class to store the dataset."
   ]
  },
  {
   "cell_type": "code",
   "execution_count": 4,
   "id": "bad426d0-eb06-44b3-8ec5-7bb7cb016e0a",
   "metadata": {},
   "outputs": [],
   "source": [
    "new_dataset = SourceDataset(\"test_dataset\")"
   ]
  },
  {
   "cell_type": "markdown",
   "id": "aae624b3-f5f1-4543-990d-be2a79697b04",
   "metadata": {},
   "source": [
    "### Add a record\n",
    "Add a new record to the dataset, giving it a unique name (as a string).  The name provided will be used for adding/fetching properties to/from the record."
   ]
  },
  {
   "cell_type": "code",
   "execution_count": 5,
   "id": "1ec12251-18e7-4e3a-8574-7bc3684ac9f7",
   "metadata": {},
   "outputs": [],
   "source": [
    "new_dataset.add_record('mol1')"
   ]
  },
  {
   "cell_type": "markdown",
   "id": "e37ac0df-ff9d-4a73-ae5a-eef94ba7f17e",
   "metadata": {},
   "source": [
    "### Define properties\n",
    "Each record must include a few basic elements to be considered complete, namely:\n",
    "- atomic numbers\n",
    "- positions\n",
    "- energies\n",
    "  \n",
    "Records may of course contain other properties/metadata, but this is the minimal set of information used in modelforge during training. The curate packages provides pydantic models for these and other common properties that appear in datasets.  \n",
    "\n",
    "#### Defining atomic numbers\n",
    "Let us first start by considering how to initialize atomic numbers, in this case for an example CH molecule:"
   ]
  },
  {
   "cell_type": "code",
   "execution_count": 6,
   "id": "587ce24b-4d72-40fb-a850-d0f85079178b",
   "metadata": {},
   "outputs": [],
   "source": [
    "atomic_numbers = AtomicNumbers(value=np.array([[1], [6]]))"
   ]
  },
  {
   "cell_type": "markdown",
   "id": "00f90255-9b73-44bc-a24b-bd21eabf6e32",
   "metadata": {},
   "source": [
    "The array that is should have shape (n_atoms, 1).  An error will be raised if `len(value.shape) != 2` or `value.shape[1] != 1`. \n",
    "\n",
    "`AtomicNumbers` can accept either a numpy array or a python list as input (it will be converted to a numpy array internally). The following syntax will produce an equivalent instance:"
   ]
  },
  {
   "cell_type": "code",
   "execution_count": 7,
   "id": "3e19eb07-cb8d-4d5e-b54e-c18df911c697",
   "metadata": {},
   "outputs": [],
   "source": [
    "atomic_numbers = AtomicNumbers(value=[[1], [6]])"
   ]
  },
  {
   "cell_type": "markdown",
   "id": "ebefc0a9-9cde-4488-9f05-780c7856564d",
   "metadata": {},
   "source": [
    "#### Defining positions\n",
    "\n",
    "To define positions, we will use the `Positions` pydantic model.  Since positions should have units associated with them, they must also be set at the time of initialization. \n",
    "\n",
    "Units can be passed as an openff.units `Unit` or a string that can be understood by openff.units. An error will be raised if units are not defined. \n",
    "\n",
    "Positions are a per_atom property and thus must be a 3d array with shape (n_configs, n_atoms, 3).\n",
    "If `value.shape[2] !=3` or `len(value.shape) != 3`, this will raise an error.  \n",
    "\n"
   ]
  },
  {
   "cell_type": "code",
   "execution_count": 8,
   "id": "a5bcd450-3d52-4a45-ab1a-f107e11df202",
   "metadata": {},
   "outputs": [],
   "source": [
    "positions = Positions(\n",
    "    value=np.array([[[1.0, 1.0, 1.0], [2.0, 2.0, 2.0]]]), \n",
    "    units=\"nanometer\"\n",
    ")"
   ]
  },
  {
   "cell_type": "markdown",
   "id": "144b4f9e-62b8-42b5-8e79-429e133574b4",
   "metadata": {},
   "source": [
    "#### Defining energies \n",
    "To define energies, we will use the `Energies` pydantic model; as with positions, units must also be set.  \n",
    "\n",
    "Note, energy is a per_system property and thus the shape of the input array must be (n_configs, 1); an error will be raised if `value.shape[1] !=1` or `len(value.shape) != 2`."
   ]
  },
  {
   "cell_type": "code",
   "execution_count": 9,
   "id": "e03c8a4f-a49f-444f-8b3c-252d7373e77a",
   "metadata": {},
   "outputs": [],
   "source": [
    "energies = Energies(\n",
    "    value=np.array([[0.1]]), \n",
    "    units=unit.hartree\n",
    ")"
   ]
  },
  {
   "cell_type": "markdown",
   "id": "d21b6dc0-7fa4-4a72-aa01-57326899a7b2",
   "metadata": {},
   "source": [
    "#### Other properties\n",
    "\n",
    "Pydantic models have also been defined for other common properties:\n",
    "- `Forces`\n",
    "- `PartialCharges`\n",
    "- `TotalCharge`\n",
    "- `DipoleMoment`\n",
    "- `QuadrupoleMoment`\n",
    "- `Polarizability`\n",
    "- `MetaData`\n",
    "\n",
    "Note, each of thes emodels inherits from a more general `RecordProperty` pydantic model; this model can be used to define any additional properties, but requires the user to provide the classification (e.g., per_atom, per_system) and the type (for the purposes of unit conversion, e.g., length, energy, force, charge, etc.). This will be discussed separately."
   ]
  },
  {
   "cell_type": "markdown",
   "id": "5d42293f-4a96-42ef-adb5-8fe12c6ef045",
   "metadata": {},
   "source": [
    "### Add properties to a record\n",
    "\n",
    "Having defined properties we can now add them to the record. properties can be added individually:"
   ]
  },
  {
   "cell_type": "code",
   "execution_count": 10,
   "id": "4134187f-1015-4e07-9107-5939266c67f2",
   "metadata": {},
   "outputs": [],
   "source": [
    "new_dataset.add_property(\n",
    "    record_name=\"mol1\", \n",
    "    property=atomic_numbers\n",
    ")"
   ]
  },
  {
   "cell_type": "markdown",
   "id": "b36dcc02-4295-4827-b464-c58365528a2b",
   "metadata": {},
   "source": [
    "Properties may also be added to the record as a list:"
   ]
  },
  {
   "cell_type": "code",
   "execution_count": 11,
   "id": "dc5c22b2-ac45-49ee-84df-64856deced79",
   "metadata": {},
   "outputs": [],
   "source": [
    "new_dataset.add_properties(\n",
    "    record_name=\"mol1\", \n",
    "    properties=[positions, energies]\n",
    ")"
   ]
  },
  {
   "cell_type": "markdown",
   "id": "99ee9344-8ba6-4db8-aaa2-5a2811bde1bc",
   "metadata": {},
   "source": [
    "By default when instantiating a new `SourceDataset` instance, `append_property = False`.\n",
    "If `append_property == False`, an error will be raised if you try to add a property with the same name more than once to the same record. This ensures we do not accidentally overwrite data in a record.\n",
    "\n",
    "They following will produce a ValueError because atomic numbers have already been set for the record"
   ]
  },
  {
   "cell_type": "code",
   "execution_count": 12,
   "id": "8efcbcad-ae44-4443-886c-f2297a001eae",
   "metadata": {},
   "outputs": [
    {
     "ename": "ValueError",
     "evalue": "Atomic numbers already set for record mol1",
     "output_type": "error",
     "traceback": [
      "\u001b[0;31m---------------------------------------------------------------------------\u001b[0m",
      "\u001b[0;31mValueError\u001b[0m                                Traceback (most recent call last)",
      "Cell \u001b[0;32mIn[12], line 1\u001b[0m\n\u001b[0;32m----> 1\u001b[0m \u001b[43mnew_dataset\u001b[49m\u001b[38;5;241;43m.\u001b[39;49m\u001b[43madd_property\u001b[49m\u001b[43m(\u001b[49m\n\u001b[1;32m      2\u001b[0m \u001b[43m    \u001b[49m\u001b[43mrecord_name\u001b[49m\u001b[38;5;241;43m=\u001b[39;49m\u001b[38;5;124;43m\"\u001b[39;49m\u001b[38;5;124;43mmol1\u001b[39;49m\u001b[38;5;124;43m\"\u001b[39;49m\u001b[43m,\u001b[49m\u001b[43m \u001b[49m\n\u001b[1;32m      3\u001b[0m \u001b[43m    \u001b[49m\u001b[38;5;28;43mproperty\u001b[39;49m\u001b[38;5;241;43m=\u001b[39;49m\u001b[43matomic_numbers\u001b[49m\n\u001b[1;32m      4\u001b[0m \u001b[43m)\u001b[49m\n",
      "File \u001b[0;32m~/PycharmProjects/modelforge/modelforge-curate/modelforge/curate/curate.py:591\u001b[0m, in \u001b[0;36mSourceDataset.add_property\u001b[0;34m(self, record_name, property)\u001b[0m\n\u001b[1;32m    587\u001b[0m \u001b[38;5;28;01mif\u001b[39;00m \u001b[38;5;28mproperty\u001b[39m\u001b[38;5;241m.\u001b[39mclassification \u001b[38;5;241m==\u001b[39m PropertyClassification\u001b[38;5;241m.\u001b[39matomic_numbers:\n\u001b[1;32m    588\u001b[0m \n\u001b[1;32m    589\u001b[0m     \u001b[38;5;66;03m# we will not allow atomic numbers to be set twice\u001b[39;00m\n\u001b[1;32m    590\u001b[0m     \u001b[38;5;28;01mif\u001b[39;00m \u001b[38;5;28mself\u001b[39m\u001b[38;5;241m.\u001b[39mrecords[record_name]\u001b[38;5;241m.\u001b[39matomic_numbers \u001b[38;5;129;01mis\u001b[39;00m \u001b[38;5;129;01mnot\u001b[39;00m \u001b[38;5;28;01mNone\u001b[39;00m:\n\u001b[0;32m--> 591\u001b[0m         \u001b[38;5;28;01mraise\u001b[39;00m \u001b[38;5;167;01mValueError\u001b[39;00m(\u001b[38;5;124mf\u001b[39m\u001b[38;5;124m\"\u001b[39m\u001b[38;5;124mAtomic numbers already set for record \u001b[39m\u001b[38;5;132;01m{\u001b[39;00mrecord_name\u001b[38;5;132;01m}\u001b[39;00m\u001b[38;5;124m\"\u001b[39m)\n\u001b[1;32m    593\u001b[0m     \u001b[38;5;28mself\u001b[39m\u001b[38;5;241m.\u001b[39mrecords[record_name]\u001b[38;5;241m.\u001b[39matomic_numbers \u001b[38;5;241m=\u001b[39m \u001b[38;5;28mproperty\u001b[39m\u001b[38;5;241m.\u001b[39mmodel_copy(deep\u001b[38;5;241m=\u001b[39m\u001b[38;5;28;01mTrue\u001b[39;00m)\n\u001b[1;32m    595\u001b[0m     \u001b[38;5;66;03m# Note, the number of atoms will always be set by the atomic_numbers property.\u001b[39;00m\n\u001b[1;32m    596\u001b[0m     \u001b[38;5;66;03m# We will later validate that per_atom properties are consistent with this value later\u001b[39;00m\n\u001b[1;32m    597\u001b[0m     \u001b[38;5;66;03m# since we are not enforcing that atomic_numbers need to be set before any other property\u001b[39;00m\n",
      "\u001b[0;31mValueError\u001b[0m: Atomic numbers already set for record mol1"
     ]
    }
   ],
   "source": [
    "new_dataset.add_property(\n",
    "    record_name=\"mol1\", \n",
    "    property=atomic_numbers\n",
    ")"
   ]
  },
  {
   "cell_type": "markdown",
   "id": "962b873e-587b-47c9-be6c-3af3ced73cea",
   "metadata": {},
   "source": [
    "### Viewing a record\n",
    "We can easily view an individual record using the `get_record` function in the `SourceDataset` class."
   ]
  },
  {
   "cell_type": "code",
   "execution_count": 13,
   "id": "1020acc8-7b71-4ff9-819f-9964713c6314",
   "metadata": {},
   "outputs": [
    {
     "name": "stdout",
     "output_type": "stream",
     "text": [
      "name: mol1\n",
      "* n_atoms: 2\n",
      "* n_configs: 1\n",
      "* atomic_numbers:\n",
      " -  name='atomic_numbers' value=array([[1],\n",
      "       [6]]) units=<Unit('dimensionless')> classification='atomic_numbers' property_type='atomic_numbers' n_configs=None n_atoms=2\n",
      "* per-atom properties (['positions']):\n",
      " -  name='positions' value=array([[[1., 1., 1.],\n",
      "        [2., 2., 2.]]]) units=<Unit('nanometer')> classification='per_atom' property_type='length' n_configs=1 n_atoms=2\n",
      "* per-system properties (['energies']):\n",
      " -  name='energies' value=array([[0.1]]) units=<Unit('hartree')> classification='per_system' property_type='energy' n_configs=1 n_atoms=None\n",
      "* meta_data: ([])\n",
      "\n"
     ]
    }
   ],
   "source": [
    "mol1_record = new_dataset.get_record(record_name=\"mol1\")\n",
    "print(mol1_record)"
   ]
  },
  {
   "cell_type": "markdown",
   "id": "84a3cbc9-c4c0-4990-8b0a-adb675a20e0c",
   "metadata": {},
   "source": [
    "The record can also be exported to a dict. "
   ]
  },
  {
   "cell_type": "code",
   "execution_count": 14,
   "id": "38a2bed3-e521-49ae-a2ef-2ecd58d15b84",
   "metadata": {},
   "outputs": [
    {
     "data": {
      "text/plain": [
       "{'name': 'mol1',\n",
       " 'n_atoms': 2,\n",
       " 'n_configs': 1,\n",
       " 'atomic_numbers': AtomicNumbers(name='atomic_numbers', value=array([[1],\n",
       "        [6]]), units=<Unit('dimensionless')>, classification='atomic_numbers', property_type='atomic_numbers', n_configs=None, n_atoms=2),\n",
       " 'per_atom': {'positions': Positions(name='positions', value=array([[[1., 1., 1.],\n",
       "          [2., 2., 2.]]]), units=<Unit('nanometer')>, classification='per_atom', property_type='length', n_configs=1, n_atoms=2)},\n",
       " 'per_system': {'energies': Energies(name='energies', value=array([[0.1]]), units=<Unit('hartree')>, classification='per_system', property_type='energy', n_configs=1, n_atoms=None)},\n",
       " 'meta_data': {}}"
      ]
     },
     "execution_count": 14,
     "metadata": {},
     "output_type": "execute_result"
    }
   ],
   "source": [
    "mol1_record.to_dict()"
   ]
  },
  {
   "cell_type": "markdown",
   "id": "9bb77207-f691-4cc3-be6b-30920222d2ba",
   "metadata": {},
   "source": [
    "### Validating a record\n",
    "Within these readouts, we see `n_atoms` and `n_configs` reported.  `n_atoms` is calculated from the dimensions of the atomic numbers; validation is then performed for all per_atom properties to ensure that all properties in the record have the same number of atoms.  Similarly, we validate that all per_system and per_atom properties have the same value of `n_configs` (determined by the first index of the shape of their arrays).  If the values were inconsistent, a descriptive message reporting the shape of each of the arrays would be provided. \n",
    "\n",
    "This validation can be triggered manually:"
   ]
  },
  {
   "cell_type": "code",
   "execution_count": 15,
   "id": "bcb5c1dd-49dc-448a-a861-9a39c9b28c5d",
   "metadata": {},
   "outputs": [
    {
     "data": {
      "text/plain": [
       "True"
      ]
     },
     "execution_count": 15,
     "metadata": {},
     "output_type": "execute_result"
    }
   ],
   "source": [
    "mol1_record.validate()"
   ]
  },
  {
   "cell_type": "markdown",
   "id": "9facaeac-3368-42e5-aefa-cd8d1533252d",
   "metadata": {},
   "source": [
    "More complete validation can be performed at the dataset level. This validation includes checking for each record that:\n",
    "\n",
    "- number of atoms is consistent\n",
    "- number of configurations is consistent\n",
    "- validation of units (e.g., that the unit provided for Positions is a length),\n",
    "- ensuring that at minimum, atomic numbers, positions, and energies have been defined in the dataset\n",
    "\n",
    "This can be done for individual records or on the entire dataset:"
   ]
  },
  {
   "cell_type": "code",
   "execution_count": 16,
   "id": "4ce1212f-62db-48a3-98c5-d6965b95f515",
   "metadata": {},
   "outputs": [
    {
     "data": {
      "text/plain": [
       "True"
      ]
     },
     "execution_count": 16,
     "metadata": {},
     "output_type": "execute_result"
    }
   ],
   "source": [
    "new_dataset.validate_record(\"mol1\")"
   ]
  },
  {
   "cell_type": "code",
   "execution_count": 17,
   "id": "bac9ccc5-867a-4f54-a2ea-4f74cebb6cf0",
   "metadata": {},
   "outputs": [
    {
     "name": "stderr",
     "output_type": "stream",
     "text": [
      "100%|██████████████████████████████████████████████████████████████████████████████████████████████████████████████████████████████████████████████████████████████████████████████████████████████████████████████████████████████████████████████████████████████████████████████████████████████████████████████████████████████████████████████████████████████████████████████████| 1/1 [00:00<00:00, 4211.15it/s]\n",
      "\u001b[32m2025-01-13 10:17:32.144\u001b[0m | \u001b[1mINFO    \u001b[0m | \u001b[36mmodelforge.curate.curate\u001b[0m:\u001b[36mvalidate_records\u001b[0m:\u001b[36m890\u001b[0m - \u001b[1mAll records validated successfully.\u001b[0m\n"
     ]
    },
    {
     "data": {
      "text/plain": [
       "True"
      ]
     },
     "execution_count": 17,
     "metadata": {},
     "output_type": "execute_result"
    }
   ],
   "source": [
    "new_dataset.validate_records()"
   ]
  },
  {
   "cell_type": "markdown",
   "id": "14815ba2-8dac-4d0b-95c6-013f9403fe99",
   "metadata": {},
   "source": [
    "### Saving to an HDF5 file\n",
    "\n",
    "To save ths to an hdf5 file, we call the `to_hdf5` function of the `SourceDataset` class, passing the output path and filename. This will automatically perform the validation discussed above before we write to the file. \n",
    "\n",
    "Additionally, when writing the file, it will convert records to a consistent unit system (by default, kilojoules_per_mole and nanometers are the base unit system for energy and distance)."
   ]
  },
  {
   "cell_type": "code",
   "execution_count": 18,
   "id": "5f32cd4f-330d-4ebf-a27f-1a36b6751103",
   "metadata": {},
   "outputs": [
    {
     "name": "stderr",
     "output_type": "stream",
     "text": [
      "\u001b[32m2025-01-13 10:17:33.000\u001b[0m | \u001b[1mINFO    \u001b[0m | \u001b[36mmodelforge.curate.curate\u001b[0m:\u001b[36mto_hdf5\u001b[0m:\u001b[36m929\u001b[0m - \u001b[1mValidating records\u001b[0m\n",
      "100%|██████████████████████████████████████████████████████████████████████████████████████████████████████████████████████████████████████████████████████████████████████████████████████████████████████████████████████████████████████████████████████████████████████████████████████████████████████████████████████████████████████████████████████████████████████████████████| 1/1 [00:00<00:00, 1855.07it/s]\n",
      "\u001b[32m2025-01-13 10:17:33.003\u001b[0m | \u001b[1mINFO    \u001b[0m | \u001b[36mmodelforge.curate.curate\u001b[0m:\u001b[36mvalidate_records\u001b[0m:\u001b[36m890\u001b[0m - \u001b[1mAll records validated successfully.\u001b[0m\n",
      "\u001b[32m2025-01-13 10:17:33.003\u001b[0m | \u001b[1mINFO    \u001b[0m | \u001b[36mmodelforge.curate.curate\u001b[0m:\u001b[36mto_hdf5\u001b[0m:\u001b[36m932\u001b[0m - \u001b[1mWriting records to HDF5 file\u001b[0m\n",
      "100%|███████████████████████████████████████████████████████████████████████████████████████████████████████████████████████████████████████████████████████████████████████████████████████████████████████████████████████████████████████████████████████████████████████████████████████████████████████████████████████████████████████████████████████████████████████████████████| 1/1 [00:00<00:00, 458.64it/s]\n"
     ]
    }
   ],
   "source": [
    "new_dataset.to_hdf5(file_path=\"./\", file_name=\"test_dataset.hdf5\")"
   ]
  },
  {
   "cell_type": "markdown",
   "id": "3cdc35f8-a8e9-4a3a-8189-8a19192afa33",
   "metadata": {},
   "source": [
    "## Defining multiple properties of the same type\n",
    "\n",
    "In the examples above, we did not provide a name to any of the properties we defined, intead using the default name in the pydantic model.  In some cases, we may wish to change this name, e.g., to match the name used in the original dataset or to be able to define multiple different energies (e.g., different contributions to the total energy, or calculated with different levels of theory). \n",
    "\n",
    "For example, let us consider that our dataset also includes a separate entry for the contribution of dispersion and we wish to store this with name 'energies_disp'.  We will add this to record \"mol`\" in the first dataset we defined."
   ]
  },
  {
   "cell_type": "code",
   "execution_count": 19,
   "id": "18a6e260-b6fe-4510-a988-db2a7cf3ebb4",
   "metadata": {},
   "outputs": [],
   "source": [
    "disp_energy = Energies(name='energies_disp', value=np.array([[0.03]]), units=unit.hartree)\n",
    "\n",
    "new_dataset.add_property(\n",
    "    record_name=\"mol1\", \n",
    "    property=disp_energy\n",
    ")"
   ]
  },
  {
   "cell_type": "code",
   "execution_count": 20,
   "id": "ca644952-baa0-4ec7-855e-26496a402226",
   "metadata": {},
   "outputs": [
    {
     "data": {
      "text/plain": [
       "name: mol1\n",
       "* n_atoms: 2\n",
       "* n_configs: 1\n",
       "* atomic_numbers:\n",
       " -  name='atomic_numbers' value=array([[1],\n",
       "       [6]]) units=<Unit('dimensionless')> classification='atomic_numbers' property_type='atomic_numbers' n_configs=None n_atoms=2\n",
       "* per-atom properties (['positions']):\n",
       " -  name='positions' value=array([[[1., 1., 1.],\n",
       "        [2., 2., 2.]]]) units=<Unit('nanometer')> classification='per_atom' property_type='length' n_configs=1 n_atoms=2\n",
       "* per-system properties (['energies', 'energies_disp']):\n",
       " -  name='energies' value=array([[0.1]]) units=<Unit('hartree')> classification='per_system' property_type='energy' n_configs=1 n_atoms=None\n",
       " -  name='energies_disp' value=array([[0.03]]) units=<Unit('hartree')> classification='per_system' property_type='energy' n_configs=1 n_atoms=None\n",
       "* meta_data: ([])"
      ]
     },
     "execution_count": 20,
     "metadata": {},
     "output_type": "execute_result"
    }
   ],
   "source": [
    "new_dataset.get_record('mol1')"
   ]
  },
  {
   "cell_type": "markdown",
   "id": "3bb44f6e-dd0d-4448-94fe-240061524b8f",
   "metadata": {},
   "source": [
    "Note validation to ensure that energies are included, only looks at the \"type\", rather than looking for a specific string in the \"name\" that has been provided; it only looks for an instance of the Energies pydantic model has been included."
   ]
  },
  {
   "cell_type": "markdown",
   "id": "00ce9b70-6f36-4b67-bfb0-f4156fe7f0f9",
   "metadata": {},
   "source": [
    "## Creating an appendable dataset\n",
    "\n",
    "In some cases, we may not have data for all configurations saved within the same array (e.g., when fetching data from qcarchive). To aid in these dataset types, we can initialize our instance of `SourceDataset` with `append_property=True`.  In these cases, rather than providing an error if the same property is added twice to the dataset, we will instead append the data to the existing array. "
   ]
  },
  {
   "cell_type": "code",
   "execution_count": 21,
   "id": "fdfedfdc-ed1a-4c08-9229-e59f2d9765ca",
   "metadata": {},
   "outputs": [],
   "source": [
    "appendable_dataset = SourceDataset(dataset_name=\"appendable\", append_property=True)"
   ]
  },
  {
   "cell_type": "markdown",
   "id": "675fd6cf-e154-42d2-99d4-c27e487c027c",
   "metadata": {},
   "source": [
    "For simplicity, let us reuse the properties already defined above and add these to the new dataset.  Note if we do not call `add_record` first, it will automatically create the recrod if it does not exist. "
   ]
  },
  {
   "cell_type": "code",
   "execution_count": 22,
   "id": "3cfc0db6-b8bf-40c7-8f13-1b6c8e0ccd19",
   "metadata": {},
   "outputs": [
    {
     "name": "stderr",
     "output_type": "stream",
     "text": [
      "\u001b[32m2025-01-13 10:17:35.979\u001b[0m | \u001b[1mINFO    \u001b[0m | \u001b[36mmodelforge.curate.curate\u001b[0m:\u001b[36madd_property\u001b[0m:\u001b[36m582\u001b[0m - \u001b[1mRecord with name mol2 does not exist in the dataset. Creating it now.\u001b[0m\n"
     ]
    }
   ],
   "source": [
    "appendable_dataset.add_properties(\"mol2\", [energies, atomic_numbers, positions])"
   ]
  },
  {
   "cell_type": "markdown",
   "id": "7df059a2-720c-4028-8c2c-e88e747a3a9f",
   "metadata": {},
   "source": [
    "Let us now examine the contents of the record, where we see that we only have a single configuration. "
   ]
  },
  {
   "cell_type": "code",
   "execution_count": 23,
   "id": "44009dc7-1f68-4647-8cae-446f5cbd7d5b",
   "metadata": {},
   "outputs": [
    {
     "data": {
      "text/plain": [
       "name: mol2\n",
       "* n_atoms: 2\n",
       "* n_configs: 1\n",
       "* atomic_numbers:\n",
       " -  name='atomic_numbers' value=array([[1],\n",
       "       [6]]) units=<Unit('dimensionless')> classification='atomic_numbers' property_type='atomic_numbers' n_configs=None n_atoms=2\n",
       "* per-atom properties (['positions']):\n",
       " -  name='positions' value=array([[[1., 1., 1.],\n",
       "        [2., 2., 2.]]]) units=<Unit('nanometer')> classification='per_atom' property_type='length' n_configs=1 n_atoms=2\n",
       "* per-system properties (['energies']):\n",
       " -  name='energies' value=array([[0.1]]) units=<Unit('hartree')> classification='per_system' property_type='energy' n_configs=1 n_atoms=None\n",
       "* meta_data: ([])"
      ]
     },
     "execution_count": 23,
     "metadata": {},
     "output_type": "execute_result"
    }
   ],
   "source": [
    "appendable_dataset.get_record('mol2')"
   ]
  },
  {
   "cell_type": "markdown",
   "id": "e7d98d33-b9e7-41d1-b900-c1d610231206",
   "metadata": {},
   "source": [
    "If we add the energies and positions a second time, we should see that we now have 2 configurations."
   ]
  },
  {
   "cell_type": "code",
   "execution_count": 24,
   "id": "141431e6-16b9-4559-9508-14338ea82858",
   "metadata": {},
   "outputs": [],
   "source": [
    "appendable_dataset.add_properties(\"mol2\", [energies, positions])"
   ]
  },
  {
   "cell_type": "code",
   "execution_count": 25,
   "id": "e066091a-f725-4c68-9ec8-fefb09ad010d",
   "metadata": {},
   "outputs": [
    {
     "data": {
      "text/plain": [
       "name: mol2\n",
       "* n_atoms: 2\n",
       "* n_configs: 2\n",
       "* atomic_numbers:\n",
       " -  name='atomic_numbers' value=array([[1],\n",
       "       [6]]) units=<Unit('dimensionless')> classification='atomic_numbers' property_type='atomic_numbers' n_configs=None n_atoms=2\n",
       "* per-atom properties (['positions']):\n",
       " -  name='positions' value=array([[[1., 1., 1.],\n",
       "        [2., 2., 2.]],\n",
       "\n",
       "       [[1., 1., 1.],\n",
       "        [2., 2., 2.]]]) units=<Unit('nanometer')> classification='per_atom' property_type='length' n_configs=2 n_atoms=2\n",
       "* per-system properties (['energies']):\n",
       " -  name='energies' value=array([[0.1],\n",
       "       [0.1]]) units=<Unit('hartree')> classification='per_system' property_type='energy' n_configs=2 n_atoms=None\n",
       "* meta_data: ([])"
      ]
     },
     "execution_count": 25,
     "metadata": {},
     "output_type": "execute_result"
    }
   ],
   "source": [
    "appendable_dataset.get_record('mol2')"
   ]
  },
  {
   "cell_type": "markdown",
   "id": "18eb082f-8261-4ab1-b11c-578abb742687",
   "metadata": {},
   "source": [
    "If we try to append a property that does not have the same number of atoms, an error will be raised. For example, below we try to append positions for a configuration with 3 atoms, not 2. "
   ]
  },
  {
   "cell_type": "code",
   "execution_count": 26,
   "id": "552fc18d-288d-40fd-8a7e-d17832989478",
   "metadata": {},
   "outputs": [
    {
     "ename": "AssertionError",
     "evalue": "",
     "output_type": "error",
     "traceback": [
      "\u001b[0;31m---------------------------------------------------------------------------\u001b[0m",
      "\u001b[0;31mAssertionError\u001b[0m                            Traceback (most recent call last)",
      "Cell \u001b[0;32mIn[26], line 2\u001b[0m\n\u001b[1;32m      1\u001b[0m positions2 \u001b[38;5;241m=\u001b[39m Positions(value\u001b[38;5;241m=\u001b[39m[[[\u001b[38;5;241m1.0\u001b[39m, \u001b[38;5;241m1.0\u001b[39m, \u001b[38;5;241m1.0\u001b[39m], [\u001b[38;5;241m2.0\u001b[39m, \u001b[38;5;241m2.0\u001b[39m, \u001b[38;5;241m2.0\u001b[39m], [\u001b[38;5;241m3.0\u001b[39m, \u001b[38;5;241m3.0\u001b[39m, \u001b[38;5;241m3.0\u001b[39m]]], units\u001b[38;5;241m=\u001b[39m\u001b[38;5;124m\"\u001b[39m\u001b[38;5;124mangstrom\u001b[39m\u001b[38;5;124m\"\u001b[39m)\n\u001b[0;32m----> 2\u001b[0m \u001b[43mappendable_dataset\u001b[49m\u001b[38;5;241;43m.\u001b[39;49m\u001b[43madd_property\u001b[49m\u001b[43m(\u001b[49m\u001b[38;5;124;43m\"\u001b[39;49m\u001b[38;5;124;43mmol2\u001b[39;49m\u001b[38;5;124;43m\"\u001b[39;49m\u001b[43m,\u001b[49m\u001b[43m  \u001b[49m\u001b[43mpositions2\u001b[49m\u001b[43m)\u001b[49m\n",
      "File \u001b[0;32m~/PycharmProjects/modelforge/modelforge-curate/modelforge/curate/curate.py:648\u001b[0m, in \u001b[0;36mSourceDataset.add_property\u001b[0;34m(self, record_name, property)\u001b[0m\n\u001b[1;32m    643\u001b[0m     \u001b[38;5;28;01mraise\u001b[39;00m \u001b[38;5;167;01mValueError\u001b[39;00m(error_msg)\n\u001b[1;32m    644\u001b[0m \u001b[38;5;66;03m# if the property already exists, we will use vstack to add it to the existing array\u001b[39;00m\n\u001b[1;32m    645\u001b[0m \u001b[38;5;66;03m# after first checking that the dimensions are consistent\u001b[39;00m\n\u001b[1;32m    646\u001b[0m \u001b[38;5;66;03m# note we do not check shape[0], as that corresponds to the number of configurations\u001b[39;00m\n\u001b[1;32m    647\u001b[0m \u001b[38;5;28;01massert\u001b[39;00m (\n\u001b[0;32m--> 648\u001b[0m     \u001b[38;5;28mself\u001b[39m\u001b[38;5;241m.\u001b[39mrecords[record_name]\u001b[38;5;241m.\u001b[39mper_atom[\u001b[38;5;28mproperty\u001b[39m\u001b[38;5;241m.\u001b[39mname]\u001b[38;5;241m.\u001b[39mvalue\u001b[38;5;241m.\u001b[39mshape[\u001b[38;5;241m1\u001b[39m]\n\u001b[1;32m    649\u001b[0m     \u001b[38;5;241m==\u001b[39m \u001b[38;5;28mproperty\u001b[39m\u001b[38;5;241m.\u001b[39mvalue\u001b[38;5;241m.\u001b[39mshape[\u001b[38;5;241m1\u001b[39m]\n\u001b[1;32m    650\u001b[0m )\n\u001b[1;32m    651\u001b[0m \u001b[38;5;28;01massert\u001b[39;00m (\n\u001b[1;32m    652\u001b[0m     \u001b[38;5;28mself\u001b[39m\u001b[38;5;241m.\u001b[39mrecords[record_name]\u001b[38;5;241m.\u001b[39mper_atom[\u001b[38;5;28mproperty\u001b[39m\u001b[38;5;241m.\u001b[39mname]\u001b[38;5;241m.\u001b[39mvalue\u001b[38;5;241m.\u001b[39mshape[\u001b[38;5;241m2\u001b[39m]\n\u001b[1;32m    653\u001b[0m     \u001b[38;5;241m==\u001b[39m \u001b[38;5;28mproperty\u001b[39m\u001b[38;5;241m.\u001b[39mvalue\u001b[38;5;241m.\u001b[39mshape[\u001b[38;5;241m2\u001b[39m]\n\u001b[1;32m    654\u001b[0m )\n\u001b[1;32m    655\u001b[0m \u001b[38;5;66;03m# In order to append to the array, everything needs to have the same units\u001b[39;00m\n\u001b[1;32m    656\u001b[0m \u001b[38;5;66;03m# We will use the units of the first property that was added\u001b[39;00m\n",
      "\u001b[0;31mAssertionError\u001b[0m: "
     ]
    }
   ],
   "source": [
    "positions2 = Positions(value=[[[1.0, 1.0, 1.0], [2.0, 2.0, 2.0], [3.0, 3.0, 3.0]]], units=\"angstrom\")\n",
    "appendable_dataset.add_property(\"mol2\",  positions2)"
   ]
  },
  {
   "cell_type": "markdown",
   "id": "ee71ee93-e156-4842-a592-2f35420e3bec",
   "metadata": {},
   "source": [
    "In our previous definition of energies in hatree and positions in nanometer; if we were to now define properties in different, yet compatible units, these values will be automatically converted to the existing units before appending.  "
   ]
  },
  {
   "cell_type": "code",
   "execution_count": 27,
   "id": "f08f8aa5-f3ba-4cb9-91e9-e493513167f3",
   "metadata": {},
   "outputs": [],
   "source": [
    "energies2 = Energies(value=np.array([[0.1]]), units=unit.kilojoules_per_mole)\n",
    "positions2 = Positions(value=[[[1.0, 1.0, 1.0], [2.0, 2.0, 2.0]]], units=\"angstrom\")\n",
    "appendable_dataset.add_properties(\"mol2\", [energies2, positions2])"
   ]
  },
  {
   "cell_type": "markdown",
   "id": "4a3f4ac9-f5a2-4e8f-a80b-6eb69c439bfe",
   "metadata": {},
   "source": [
    "If we now print the contents, we can see we now have 3 configurations, where the final values in the position array are a factor of 0.1 smaller as the base unit was nanometers and we defined above in angstrom; similarly the final energy in energies has been appropriate converted from kilojoules per mole to hartree to match the previously defined unit. "
   ]
  },
  {
   "cell_type": "code",
   "execution_count": 28,
   "id": "82df5525-ce64-41d3-9d71-93b8fdfeb3a4",
   "metadata": {},
   "outputs": [
    {
     "data": {
      "text/plain": [
       "name: mol2\n",
       "* n_atoms: 2\n",
       "* n_configs: 3\n",
       "* atomic_numbers:\n",
       " -  name='atomic_numbers' value=array([[1],\n",
       "       [6]]) units=<Unit('dimensionless')> classification='atomic_numbers' property_type='atomic_numbers' n_configs=None n_atoms=2\n",
       "* per-atom properties (['positions']):\n",
       " -  name='positions' value=array([[[1. , 1. , 1. ],\n",
       "        [2. , 2. , 2. ]],\n",
       "\n",
       "       [[1. , 1. , 1. ],\n",
       "        [2. , 2. , 2. ]],\n",
       "\n",
       "       [[0.1, 0.1, 0.1],\n",
       "        [0.2, 0.2, 0.2]]]) units=<Unit('nanometer')> classification='per_atom' property_type='length' n_configs=3 n_atoms=2\n",
       "* per-system properties (['energies']):\n",
       " -  name='energies' value=array([[1.00000000e-01],\n",
       "       [1.00000000e-01],\n",
       "       [3.80879885e-05]]) units=<Unit('hartree')> classification='per_system' property_type='energy' n_configs=3 n_atoms=None\n",
       "* meta_data: ([])"
      ]
     },
     "execution_count": 28,
     "metadata": {},
     "output_type": "execute_result"
    }
   ],
   "source": [
    "appendable_dataset.get_record('mol2')"
   ]
  },
  {
   "cell_type": "markdown",
   "id": "70d3c511-e525-4eee-bd5c-3aa00b38847d",
   "metadata": {},
   "source": [
    "## Unit system\n",
    "When setting for a record properties, users can specify any unit that is:\n",
    "- (1) supported by openff.units\n",
    "- (2) compatible with the parameter type (i.e., Positions expect a unit of length).\n",
    "\n",
    "Bullet 2 is assessed by comparing to the default values in the `UnitSystem` class (note we are not making any unit conversions at the point of initializing a record, just checking for compatibility). \n",
    "\n",
    "The following will fail validation because we expect, e.g., positions to be defined in distance units. "
   ]
  },
  {
   "cell_type": "code",
   "execution_count": 29,
   "id": "08fe229e-be4c-4648-80d8-8f0143aa8021",
   "metadata": {},
   "outputs": [
    {
     "ename": "ValidationError",
     "evalue": "1 validation error for Positions\n  Value error, Unit angstrom ** 2 of positions are not compatible with the property type length.\n [type=value_error, input_value={'value': [[[1.0, 1.0, 1....<Unit('angstrom ** 2')>}, input_type=dict]\n    For further information visit https://errors.pydantic.dev/2.8/v/value_error",
     "output_type": "error",
     "traceback": [
      "\u001b[0;31m---------------------------------------------------------------------------\u001b[0m",
      "\u001b[0;31mValidationError\u001b[0m                           Traceback (most recent call last)",
      "Cell \u001b[0;32mIn[29], line 1\u001b[0m\n\u001b[0;32m----> 1\u001b[0m pos \u001b[38;5;241m=\u001b[39m \u001b[43mPositions\u001b[49m\u001b[43m(\u001b[49m\u001b[43mvalue\u001b[49m\u001b[38;5;241;43m=\u001b[39;49m\u001b[43m[\u001b[49m\u001b[43m[\u001b[49m\u001b[43m[\u001b[49m\u001b[38;5;241;43m1.0\u001b[39;49m\u001b[43m,\u001b[49m\u001b[43m \u001b[49m\u001b[38;5;241;43m1.0\u001b[39;49m\u001b[43m,\u001b[49m\u001b[43m \u001b[49m\u001b[38;5;241;43m1.0\u001b[39;49m\u001b[43m]\u001b[49m\u001b[43m,\u001b[49m\u001b[43m \u001b[49m\u001b[43m[\u001b[49m\u001b[38;5;241;43m2.0\u001b[39;49m\u001b[43m,\u001b[49m\u001b[43m \u001b[49m\u001b[38;5;241;43m2.0\u001b[39;49m\u001b[43m,\u001b[49m\u001b[43m \u001b[49m\u001b[38;5;241;43m2.0\u001b[39;49m\u001b[43m]\u001b[49m\u001b[43m,\u001b[49m\u001b[43m \u001b[49m\u001b[43m[\u001b[49m\u001b[38;5;241;43m3.0\u001b[39;49m\u001b[43m,\u001b[49m\u001b[43m \u001b[49m\u001b[38;5;241;43m3.0\u001b[39;49m\u001b[43m,\u001b[49m\u001b[43m \u001b[49m\u001b[38;5;241;43m3.0\u001b[39;49m\u001b[43m]\u001b[49m\u001b[43m]\u001b[49m\u001b[43m]\u001b[49m\u001b[43m,\u001b[49m\u001b[43m \u001b[49m\u001b[43munits\u001b[49m\u001b[38;5;241;43m=\u001b[39;49m\u001b[43munit\u001b[49m\u001b[38;5;241;43m.\u001b[39;49m\u001b[43mangstrom\u001b[49m\u001b[38;5;241;43m*\u001b[39;49m\u001b[43munit\u001b[49m\u001b[38;5;241;43m.\u001b[39;49m\u001b[43mangstrom\u001b[49m\u001b[43m)\u001b[49m\n",
      "File \u001b[0;32m~/anaconda3/envs/modelforge311/lib/python3.11/site-packages/pydantic/main.py:193\u001b[0m, in \u001b[0;36mBaseModel.__init__\u001b[0;34m(self, **data)\u001b[0m\n\u001b[1;32m    191\u001b[0m \u001b[38;5;66;03m# `__tracebackhide__` tells pytest and some other tools to omit this function from tracebacks\u001b[39;00m\n\u001b[1;32m    192\u001b[0m __tracebackhide__ \u001b[38;5;241m=\u001b[39m \u001b[38;5;28;01mTrue\u001b[39;00m\n\u001b[0;32m--> 193\u001b[0m \u001b[38;5;28;43mself\u001b[39;49m\u001b[38;5;241;43m.\u001b[39;49m\u001b[43m__pydantic_validator__\u001b[49m\u001b[38;5;241;43m.\u001b[39;49m\u001b[43mvalidate_python\u001b[49m\u001b[43m(\u001b[49m\u001b[43mdata\u001b[49m\u001b[43m,\u001b[49m\u001b[43m \u001b[49m\u001b[43mself_instance\u001b[49m\u001b[38;5;241;43m=\u001b[39;49m\u001b[38;5;28;43mself\u001b[39;49m\u001b[43m)\u001b[49m\n",
      "\u001b[0;31mValidationError\u001b[0m: 1 validation error for Positions\n  Value error, Unit angstrom ** 2 of positions are not compatible with the property type length.\n [type=value_error, input_value={'value': [[[1.0, 1.0, 1....<Unit('angstrom ** 2')>}, input_type=dict]\n    For further information visit https://errors.pydantic.dev/2.8/v/value_error"
     ]
    }
   ],
   "source": [
    "pos = Positions(value=[[[1.0, 1.0, 1.0], [2.0, 2.0, 2.0], [3.0, 3.0, 3.0]]], units=unit.angstrom*unit.angstrom)\n"
   ]
  },
  {
   "cell_type": "markdown",
   "id": "2269126d-10c9-482b-bf45-91fa906b2207",
   "metadata": {},
   "source": [
    "When defining a `SourceDataset` instance, the default unit system is used unless otherwise specified. This unit system is defined in the class `UnitSystem` providing default values for the set of predefined properties pydantic models.  Values will be converted to the specified unit system when writing to an HDF5 file.   "
   ]
  },
  {
   "cell_type": "code",
   "execution_count": 30,
   "id": "4684a979-8564-4639-96c4-806c0ab55a8e",
   "metadata": {},
   "outputs": [
    {
     "name": "stdout",
     "output_type": "stream",
     "text": [
      "unit_system_name : default\n",
      "length : nanometer\n",
      "force : kilojoule_per_mole / nanometer\n",
      "energy : kilojoule_per_mole\n",
      "charge : elementary_charge\n",
      "dipole_moment : elementary_charge * nanometer\n",
      "quadrupole_moment : elementary_charge * nanometer ** 2\n",
      "polarizability : nanometer ** 3\n",
      "atomic_numbers : dimensionless\n",
      "dimensionless : dimensionless\n"
     ]
    }
   ],
   "source": [
    "from modelforge.curate.curate import UnitSystem\n",
    "print(UnitSystem())"
   ]
  },
  {
   "cell_type": "markdown",
   "id": "e2c59b77-af3b-448a-9a55-508b91e5d915",
   "metadata": {},
   "source": [
    "A user can override any of the values with the unit system as well as adding new properties.  For example"
   ]
  },
  {
   "cell_type": "code",
   "execution_count": 32,
   "id": "b96219b8-68ed-4738-b334-d68e2d050511",
   "metadata": {},
   "outputs": [
    {
     "name": "stdout",
     "output_type": "stream",
     "text": [
      "unit_system_name : default\n",
      "length : angstrom\n",
      "force : kilojoule_per_mole / nanometer\n",
      "energy : kilojoule_per_mole\n",
      "charge : elementary_charge\n",
      "dipole_moment : elementary_charge * nanometer\n",
      "quadrupole_moment : elementary_charge * nanometer ** 2\n",
      "polarizability : nanometer ** 3\n",
      "atomic_numbers : dimensionless\n",
      "dimensionless : dimensionless\n",
      "pressure : standard_atmosphere\n"
     ]
    }
   ],
   "source": [
    "units = UnitSystem()\n",
    "units.length = unit.angstrom\n",
    "units.add_property_type('pressure', unit.atmosphere)\n",
    "print(units)"
   ]
  },
  {
   "cell_type": "code",
   "execution_count": null,
   "id": "1f8584d8-4cbf-4540-8057-9fb7dba48e65",
   "metadata": {},
   "outputs": [],
   "source": []
  }
 ],
 "metadata": {
  "kernelspec": {
   "display_name": "Python 3 (ipykernel)",
   "language": "python",
   "name": "python3"
  },
  "language_info": {
   "codemirror_mode": {
    "name": "ipython",
    "version": 3
   },
   "file_extension": ".py",
   "mimetype": "text/x-python",
   "name": "python",
   "nbconvert_exporter": "python",
   "pygments_lexer": "ipython3",
   "version": "3.11.8"
  }
 },
 "nbformat": 4,
 "nbformat_minor": 5
}
