{
 "cells": [
  {
   "cell_type": "code",
   "execution_count": 1,
   "metadata": {},
   "outputs": [],
   "source": [
    "from modelforge.dataset.dataset import NNPInput\n",
    "import pickle\n",
    "import torch"
   ]
  },
  {
   "cell_type": "code",
   "execution_count": 2,
   "metadata": {},
   "outputs": [
    {
     "name": "stderr",
     "output_type": "stream",
     "text": [
      "/tmp/ipykernel_283011/2353297571.py:2: FutureWarning: You are using `torch.load` with `weights_only=False` (the current default value), which uses the default pickle module implicitly. It is possible to construct malicious pickle data which will execute arbitrary code during unpickling (See https://github.com/pytorch/pytorch/blob/main/SECURITY.md#untrusted-models for more details). In a future release, the default value for `weights_only` will be flipped to `True`. This limits the functions that could be executed during unpickling. Arbitrary objects will no longer be allowed to be loaded via this mode unless they are explicitly allowlisted by the user via `torch.serialization.add_safe_globals`. We recommend you start setting `weights_only=True` for any use case where you don't have full control of the loaded file. Please open an issue on GitHub for any issues related to this experimental feature.\n",
      "  p = torch.load('positions.pt')\n"
     ]
    },
    {
     "data": {
      "text/plain": [
       "tensor([[ 0.0109,  0.1550, -0.0058],\n",
       "        [-0.0034,  0.0045,  0.0078],\n",
       "        [ 0.0782, -0.0711, -0.0857],\n",
       "        [ 0.1484, -0.1434,  0.0173],\n",
       "        [ 0.0706, -0.0646,  0.1236],\n",
       "        [ 0.0694, -0.0576,  0.2425],\n",
       "        [ 0.1155,  0.1854,  0.0032],\n",
       "        [-0.0266,  0.1878, -0.1031],\n",
       "        [-0.0471,  0.2049,  0.0725],\n",
       "        [-0.1089, -0.0258,  0.0012],\n",
       "        [ 0.1281, -0.2513,  0.0159],\n",
       "        [ 0.2569, -0.1269,  0.0154]], requires_grad=True)"
      ]
     },
     "execution_count": 2,
     "metadata": {},
     "output_type": "execute_result"
    }
   ],
   "source": [
    "# save positions to a file\n",
    "p = torch.load('positions.pt')\n",
    "p"
   ]
  },
  {
   "cell_type": "code",
   "execution_count": 3,
   "metadata": {},
   "outputs": [],
   "source": [
    "atomic_numbers=torch.tensor([6, 6, 8, 6, 6, 8, 1, 1, 1, 1, 1, 1], dtype=torch.int32)\n",
    "position = p\n",
    "atomic_subsystem_indices=torch.tensor([0, 0, 0, 0, 0, 0, 0, 0, 0, 0, 0, 0], dtype=torch.int32)\n",
    "\n",
    "total_charge=torch.tensor([0], dtype=torch.int32)\n",
    "pair_list=torch.tensor([[ 0,  0,  0,  0,  0,  0,  0,  0,  0,  0,  0,  1,  1,  1,  1,  1,  1,  1,\n",
    "          1,  1,  1,  1,  2,  2,  2,  2,  2,  2,  2,  2,  2,  2,  2,  3,  3,  3,\n",
    "          3,  3,  3,  3,  3,  3,  3,  3,  4,  4,  4,  4,  4,  4,  4,  4,  4,  4,\n",
    "          4,  5,  5,  5,  5,  5,  5,  5,  5,  5,  5,  5,  6,  6,  6,  6,  6,  6,\n",
    "          6,  6,  6,  6,  6,  7,  7,  7,  7,  7,  7,  7,  7,  7,  7,  7,  8,  8,\n",
    "          8,  8,  8,  8,  8,  8,  8,  8,  8,  9,  9,  9,  9,  9,  9,  9,  9,  9,\n",
    "          9,  9, 10, 10, 10, 10, 10, 10, 10, 10, 10, 10, 10, 11, 11, 11, 11, 11,\n",
    "         11, 11, 11, 11, 11, 11],\n",
    "        [ 1,  2,  3,  4,  5,  6,  7,  8,  9, 10, 11,  0,  2,  3,  4,  5,  6,  7,\n",
    "          8,  9, 10, 11,  0,  1,  3,  4,  5,  6,  7,  8,  9, 10, 11,  0,  1,  2,\n",
    "          4,  5,  6,  7,  8,  9, 10, 11,  0,  1,  2,  3,  5,  6,  7,  8,  9, 10,\n",
    "         11,  0,  1,  2,  3,  4,  6,  7,  8,  9, 10, 11,  0,  1,  2,  3,  4,  5,\n",
    "          7,  8,  9, 10, 11,  0,  1,  2,  3,  4,  5,  6,  8,  9, 10, 11,  0,  1,\n",
    "          2,  3,  4,  5,  6,  7,  9, 10, 11,  0,  1,  2,  3,  4,  5,  6,  7,  8,\n",
    "         10, 11,  0,  1,  2,  3,  4,  5,  6,  7,  8,  9, 11,  0,  1,  2,  3,  4,\n",
    "          5,  6,  7,  8,  9, 10]])\n",
    "partial_charge=None\n",
    "box_vectors=torch.tensor([[0., 0., 0.],\n",
    "        [0., 0., 0.],\n",
    "        [0., 0., 0.]])\n",
    "is_periodic=torch.tensor([0.])\n",
    "\n",
    "\n",
    "\n",
    "\n",
    "nnp_input = NNPInput(atomic_numbers=atomic_numbers, positions=position, atomic_subsystem_indices=atomic_subsystem_indices, total_charge=total_charge, pair_list=pair_list, partial_charge=partial_charge, box_vectors=box_vectors, is_periodic=is_periodic)\n",
    "\n",
    "# save as pickle\n",
    "with open('nnp_input.pkl', 'wb') as f:\n",
    "    pickle.dump(nnp_input, f)"
   ]
  },
  {
   "cell_type": "code",
   "execution_count": 2,
   "metadata": {},
   "outputs": [],
   "source": [
    "# Example usage for loading and migrating\n",
    "with open('mf_input.pkl', 'rb') as f:\n",
    "    old_instance = pickle.load(f)\n"
   ]
  },
  {
   "cell_type": "code",
   "execution_count": null,
   "metadata": {},
   "outputs": [],
   "source": [
    "old_instance"
   ]
  },
  {
   "cell_type": "code",
   "execution_count": null,
   "metadata": {},
   "outputs": [],
   "source": [
    "import torch\n",
    "import pickle\n",
    "from modelforge.datasets import NNPInput\n",
    "# Define a migration function to map old instance to new instance\n",
    "def migrate_nnpinput(old_instance):\n",
    "    # Extract the attributes from the old class\n",
    "    atomic_numbers = old_instance.atomic_numbers\n",
    "    positions = old_instance.positions\n",
    "    atomic_subsystem_indices = old_instance.atomic_subsystem_indices\n",
    "    total_charge = old_instance.total_charge\n",
    "    pair_list = getattr(old_instance, \"pair_list\", None)  # Optional attributes\n",
    "    partial_charge = getattr(old_instance, \"partial_charge\", None)\n",
    "    box_vectors = getattr(old_instance, \"box_vectors\", torch.zeros(3, 3))  # Default box_vectors\n",
    "    is_periodic = getattr(old_instance, \"is_periodic\", torch.tensor([False]))  # Default is_periodic\n",
    "\n",
    "    # Create an instance of the new NNPInput class with migrated attributes\n",
    "    new_instance = NNPInput(\n",
    "        atomic_numbers=atomic_numbers,\n",
    "        positions=positions,\n",
    "        atomic_subsystem_indices=atomic_subsystem_indices,\n",
    "        total_charge=total_charge,\n",
    "        box_vectors=box_vectors,\n",
    "        is_periodic=is_periodic,\n",
    "        pair_list=pair_list,\n",
    "        partial_charge=partial_charge,\n",
    "    )\n",
    "\n",
    "    return new_instance\n",
    "\n",
    "# Example usage for loading and migrating\n",
    "with open('old_nnpinput.pickle', 'rb') as f:\n",
    "    old_instance = pickle.load(f)\n",
    "\n",
    "# Migrate old instance to the new class\n",
    "new_instance = migrate_nnpinput(old_instance)\n",
    "\n",
    "# Now you can work with the new_instance using the updated class definition\n",
    "print(new_instance)\n"
   ]
  }
 ],
 "metadata": {
  "kernelspec": {
   "display_name": "modelforge",
   "language": "python",
   "name": "python3"
  },
  "language_info": {
   "codemirror_mode": {
    "name": "ipython",
    "version": 3
   },
   "file_extension": ".py",
   "mimetype": "text/x-python",
   "name": "python",
   "nbconvert_exporter": "python",
   "pygments_lexer": "ipython3",
   "version": "3.11.9"
  }
 },
 "nbformat": 4,
 "nbformat_minor": 2
}
