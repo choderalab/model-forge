{
 "cells": [
  {
   "cell_type": "code",
   "execution_count": 2,
   "metadata": {},
   "outputs": [],
   "source": [
    "import torch\n",
    "import math\n",
    "# cutoff function from ANI\n",
    "def cutoff_cosine(distances: torch.Tensor, cutoff: float) -> torch.Tensor:\n",
    "    # assuming all elements in distances are smaller than cutoff\n",
    "    return 0.5 * torch.cos(distances * (math.pi / cutoff)) + 0.5\n"
   ]
  },
  {
   "cell_type": "code",
   "execution_count": 5,
   "metadata": {},
   "outputs": [],
   "source": [
    "from modelforge.potential.utils import CosineCutoff\n",
    "from openff.units import unit"
   ]
  },
  {
   "cell_type": "code",
   "execution_count": 4,
   "metadata": {},
   "outputs": [
    {
     "data": {
      "text/plain": [
       "tensor([0.2318, 0.6412, 0.9616, 0.1169, 0.0144])"
      ]
     },
     "execution_count": 4,
     "metadata": {},
     "output_type": "execute_result"
    }
   ],
   "source": [
    "d_ij = torch.rand(\n",
    "    5,\n",
    ")\n",
    "d_ij"
   ]
  },
  {
   "cell_type": "code",
   "execution_count": 19,
   "metadata": {},
   "outputs": [
    {
     "data": {
      "text/plain": [
       "tensor([0.8732, 0.2855, 0.0036, 0.9667, 0.9995])"
      ]
     },
     "execution_count": 19,
     "metadata": {},
     "output_type": "execute_result"
    }
   ],
   "source": [
    "cutoff = CosineCutoff(10*unit.angstrom)\n",
    "cut = cutoff(d_ij)\n",
    "cut"
   ]
  },
  {
   "cell_type": "code",
   "execution_count": 10,
   "metadata": {},
   "outputs": [
    {
     "data": {
      "text/plain": [
       "tensor([0.8732, 0.2855, 0.0036, 0.9667, 0.9995])"
      ]
     },
     "execution_count": 10,
     "metadata": {},
     "output_type": "execute_result"
    }
   ],
   "source": [
    "cutoff_cosine(d_ij, 1)"
   ]
  },
  {
   "cell_type": "code",
   "execution_count": 23,
   "metadata": {},
   "outputs": [],
   "source": [
    "r = torch.rand((5, 8))\n",
    "r"
   ]
  },
  {
   "cell_type": "code",
   "execution_count": 28,
   "metadata": {},
   "outputs": [
    {
     "data": {
      "text/plain": [
       "tensor([[6.3368e-01, 7.2967e-02, 1.8300e-03, 1.7558e-02, 6.0962e-01],\n",
       "        [2.3146e-02, 5.7950e-02, 1.7376e-03, 6.5122e-03, 6.6679e-01],\n",
       "        [6.7432e-01, 2.4014e-01, 3.4891e-03, 2.5857e-01, 9.1486e-01],\n",
       "        [7.6756e-01, 5.7948e-02, 1.0094e-03, 2.4969e-01, 4.1033e-01],\n",
       "        [1.1968e-01, 5.6675e-02, 2.4570e-03, 7.1937e-01, 3.9575e-01],\n",
       "        [1.6927e-02, 1.2842e-01, 2.2869e-04, 1.0420e-01, 5.3505e-01],\n",
       "        [3.4283e-01, 8.7109e-02, 3.1950e-03, 7.1549e-01, 1.9351e-02],\n",
       "        [4.1282e-01, 1.6380e-01, 1.6828e-03, 7.5173e-01, 4.9266e-01]])"
      ]
     },
     "execution_count": 28,
     "metadata": {},
     "output_type": "execute_result"
    }
   ],
   "source": [
    "r.T * cut"
   ]
  }
 ],
 "metadata": {
  "kernelspec": {
   "display_name": "modelforge",
   "language": "python",
   "name": "python3"
  },
  "language_info": {
   "codemirror_mode": {
    "name": "ipython",
    "version": 3
   },
   "file_extension": ".py",
   "mimetype": "text/x-python",
   "name": "python",
   "nbconvert_exporter": "python",
   "pygments_lexer": "ipython3",
   "version": "3.12.1"
  }
 },
 "nbformat": 4,
 "nbformat_minor": 2
}
