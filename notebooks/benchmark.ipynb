{
 "cells": [
  {
   "cell_type": "code",
   "execution_count": 1,
   "metadata": {},
   "outputs": [],
   "source": [
    "# Following this guid to benchmark PyTorch operations: https://pytorch.org/tutorials/recipes/recipes/benchmark.html#benchmarking-with-torch-utils-benchmark-timer\n",
    "\n",
    "import torch\n",
    "import torch.utils.benchmark as benchmark\n"
   ]
  },
  {
   "cell_type": "code",
   "execution_count": null,
   "metadata": {},
   "outputs": [],
   "source": [
    "# define the functions to compare/benchmark/time\n",
    "def index_using_gather(tensor, indices):\n",
    "    \"\"\"Selects elements from a tensor using gather (for N, 1).\"\"\"\n",
    "    return torch.gather(tensor, dim=0, index=indices.unsqueeze(1))  # Since dim is 1\n",
    "\n",
    "def index_using_integral_indexing(tensor, indices):\n",
    "    \"\"\"Selects elements from a tensor using integer indexing (for N, 1).\"\"\"\n",
    "    return tensor[indices]  # Direct indexing on the first dimension\n",
    "\n",
    "# Sample tensor and indices\n",
    "tensor = torch.randn(1000, 1)\n",
    "indices = torch.randint(0, tensor.shape[0], (100, ))  # Generate random indices for N\n"
   ]
  },
  {
   "cell_type": "code",
   "execution_count": 4,
   "metadata": {},
   "outputs": [
    {
     "name": "stdout",
     "output_type": "stream",
     "text": [
      "Gather:\n",
      "<torch.utils.benchmark.utils.common.Measurement object at 0x7f5b4b215550>\n",
      "index_using_gather(tensor.clone(), indices.clone())\n",
      "setup: from __main__ import index_using_gather, tensor, indices\n",
      "  6.72 us\n",
      "  1 measurement, 1000 runs , 1 thread\n",
      "Integer Indexing:\n",
      "<torch.utils.benchmark.utils.common.Measurement object at 0x7f5a85f6c490>\n",
      "index_using_integral_indexing(tensor.clone(), indices.clone())\n",
      "setup: from __main__ import index_using_integral_indexing, tensor, indices\n",
      "  6.89 us\n",
      "  1 measurement, 1000 runs , 1 thread\n"
     ]
    }
   ],
   "source": [
    "# Benchmarking with pytorch.utils.benchmark\n",
    "t_gather = benchmark.Timer(\n",
    "    stmt=\"index_using_gather(tensor.clone(), indices.clone())\",\n",
    "    setup=\"from __main__ import index_using_gather, tensor, indices\",\n",
    ")\n",
    "t_indexing = benchmark.Timer(\n",
    "    stmt=\"index_using_integral_indexing(tensor.clone(), indices.clone())\",\n",
    "    setup=\"from __main__ import index_using_integral_indexing, tensor, indices\",\n",
    ")\n",
    "\n",
    "# Repeatedly run the timers for more accurate measurements\n",
    "print(\"Gather:\")\n",
    "print(t_gather.timeit(number=1000))  # Run 1000 times for better accuracy\n",
    "print(\"Integer Indexing:\")\n",
    "print(t_indexing.timeit(number=1000))\n",
    "\n",
    "# Ensure outputs are the same\n",
    "assert torch.allclose(index_using_gather(tensor.clone(), indices.clone()), index_using_integral_indexing(tensor.clone(), indices.clone()))\n"
   ]
  }
 ],
 "metadata": {
  "kernelspec": {
   "display_name": "modelforge",
   "language": "python",
   "name": "python3"
  },
  "language_info": {
   "codemirror_mode": {
    "name": "ipython",
    "version": 3
   },
   "file_extension": ".py",
   "mimetype": "text/x-python",
   "name": "python",
   "nbconvert_exporter": "python",
   "pygments_lexer": "ipython3",
   "version": "3.11.9"
  }
 },
 "nbformat": 4,
 "nbformat_minor": 2
}
