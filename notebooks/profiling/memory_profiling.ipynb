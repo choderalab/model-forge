{
 "cells": [
  {
   "cell_type": "code",
   "execution_count": null,
   "metadata": {},
   "outputs": [],
   "source": [
    "import torch\n",
    "from modelforge.dataset.dataset import single_batch\n",
    "from modelforge.tests.helper_functinos import setup_potential_for_test\n",
    "from loguru import logger as log\n"
   ]
  },
  {
   "cell_type": "code",
   "execution_count": null,
   "metadata": {},
   "outputs": [],
   "source": [
    "# Setup input \n",
    "potential_name = 'SchNet'\n",
    "\n",
    "\n",
    "nnp_input = single_batch(64, 'QM0').nnp_input\n",
    "nr_of_mols = nnp_input.atomic_subsystem_indices.unique().shape[0]\n",
    "\n",
    "model = setup_potential_for_test(\n",
    "    potential_name,\n",
    "    \"inference\",\n",
    "    potential_seed=42,\n",
    "    use_training_mode_neighborlist=True,\n",
    "    simulation_environment='PyTorch',\n",
    ")\n"
   ]
  },
  {
   "cell_type": "code",
   "execution_count": 2,
   "metadata": {},
   "outputs": [],
   "source": [
    "import socket\n",
    "from datetime import datetime, timedelta\n",
    "TIME_FORMAT_STR: str = \"%b_%d_%H_%M_%S\"\n",
    "# Keep a max of 100,000 alloc/free events in the recorded history\n",
    "# leading up to the snapshot.\n",
    "MAX_NUM_OF_MEM_EVENTS_PER_SNAPSHOT: int = 100000\n",
    "def start_record_memory_history() -> None:\n",
    "   if not torch.cuda.is_available():\n",
    "       log.info(\"CUDA unavailable. Not recording memory history\")\n",
    "       return\n",
    "\n",
    "   log.info(\"Starting snapshot record_memory_history\")\n",
    "   torch.cuda.memory._record_memory_history(\n",
    "       max_entries=MAX_NUM_OF_MEM_EVENTS_PER_SNAPSHOT\n",
    "   )\n",
    "\n",
    "def stop_record_memory_history() -> None:\n",
    "   if not torch.cuda.is_available():\n",
    "       log.info(\"CUDA unavailable. Not recording memory history\")\n",
    "       return\n",
    "\n",
    "   log.info(\"Stopping snapshot record_memory_history\")\n",
    "   torch.cuda.memory._record_memory_history(enabled=None)\n",
    "\n",
    "def export_memory_snapshot() -> None:\n",
    "   if not torch.cuda.is_available():\n",
    "       log.info(\"CUDA unavailable. Not exporting memory snapshot\")\n",
    "       return\n",
    "\n",
    "   # Prefix for file names.\n",
    "   host_name = socket.gethostname()\n",
    "   timestamp = datetime.now().strftime(TIME_FORMAT_STR)\n",
    "   file_prefix = f\"{host_name}_{timestamp}\"\n",
    "\n",
    "   try:\n",
    "       log.info(f\"Saving snapshot to local file: {file_prefix}.pickle\")\n",
    "       torch.cuda.memory._dump_snapshot(f\"{file_prefix}.pickle\")\n",
    "   except Exception as e:\n",
    "       log.error(f\"Failed to capture memory snapshot {e}\")\n",
    "       return\n"
   ]
  },
  {
   "cell_type": "code",
   "execution_count": null,
   "metadata": {},
   "outputs": [],
   "source": [
    "# Start recording memory snapshot history\n",
    "start_record_memory_history()\n",
    "\n",
    "for _ in range(5):\n",
    "    # perform the forward pass through each of the models\n",
    "    r = model(nnp_input)[\"per_molecule_energy\"]\n",
    "    # Compute the gradient (forces) from the predicted energies\n",
    "    grad = torch.autograd.grad(\n",
    "        r,\n",
    "        nnp_input.positions,\n",
    "        grad_outputs=torch.ones_like(r),\n",
    "        create_graph=False,\n",
    "        retain_graph=False,\n",
    "    )[0]\n",
    "\n",
    "# Create the memory snapshot file\n",
    "export_memory_snapshot()\n",
    "\n",
    "# Stop recording memory snapshot history\n",
    "stop_record_memory_history()\n"
   ]
  }
 ],
 "metadata": {
  "kernelspec": {
   "display_name": "modelforge",
   "language": "python",
   "name": "python3"
  },
  "language_info": {
   "codemirror_mode": {
    "name": "ipython",
    "version": 3
   },
   "file_extension": ".py",
   "mimetype": "text/x-python",
   "name": "python",
   "nbconvert_exporter": "python",
   "pygments_lexer": "ipython3",
   "version": "3.11.9"
  }
 },
 "nbformat": 4,
 "nbformat_minor": 2
}
