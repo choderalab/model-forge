{
 "cells": [
  {
   "cell_type": "code",
   "execution_count": null,
   "metadata": {},
   "outputs": [],
   "source": [
    "from modelforge.utils.profiling import measure_performance_for_edge_sizes, plot_computation_time, plot_gpu_memory_usage"
   ]
  },
  {
   "cell_type": "code",
   "execution_count": null,
   "metadata": {},
   "outputs": [],
   "source": [
    "# Example usage:\n",
    "edge_sizes = [1.0, 1.5, 2.0, 2.5, 3.0, 3.5]  # Edge sizes in nanometers\n",
    "potential_names = ['painn', 'schnet', 'physnet', 'ani2x', 'aimnet2', 'sake'] \n",
    "\n",
    "results = measure_performance_for_edge_sizes(\n",
    "    edge_sizes=edge_sizes,\n",
    "    potential_names=potential_names,\n",
    ")\n",
    "\n",
    "# Print the results\n",
    "for result in results:\n",
    "    print(f\"Potential: {result['potential_name']}, \"\n",
    "          f\"Edge Size: {result['edge_size_nm']} nm, \"\n",
    "          f\"Number of Waters: {result['num_waters']}, \"\n",
    "          f\"Memory Usage: {result['memory_usage_bytes']/1e6:.2f} MB, \"\n",
    "          f\"Computation Time: {result['computation_time_s']*1000:.2f} ms\")\n",
    "\n",
    "# Plot the computation time\n",
    "plot_computation_time(results)\n",
    "plot_gpu_memory_usage(results)"
   ]
  }
 ],
 "metadata": {
  "kernelspec": {
   "display_name": "modelforge",
   "language": "python",
   "name": "python3"
  },
  "language_info": {
   "codemirror_mode": {
    "name": "ipython",
    "version": 3
   },
   "file_extension": ".py",
   "mimetype": "text/x-python",
   "name": "python",
   "nbconvert_exporter": "python",
   "pygments_lexer": "ipython3",
   "version": "3.11.9"
  }
 },
 "nbformat": 4,
 "nbformat_minor": 2
}
